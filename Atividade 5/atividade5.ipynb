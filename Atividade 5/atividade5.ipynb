{
 "cells": [
  {
   "cell_type": "code",
   "execution_count": 2,
   "id": "128be868-1cf0-4029-943c-401425ac0b15",
   "metadata": {},
   "outputs": [],
   "source": [
    "import pandas as pd\n",
    "import matplotlib.pyplot as plt\n",
    "import numpy as np \n",
    "from sklearn.linear_model import LinearRegression"
   ]
  },
  {
   "cell_type": "code",
   "execution_count": 3,
   "id": "d856d74e-b3e0-4063-849e-882f91073442",
   "metadata": {},
   "outputs": [
    {
     "name": "stderr",
     "output_type": "stream",
     "text": [
      "/srv/conda/envs/notebook/lib/python3.7/site-packages/IPython/core/interactiveshell.py:3444: FutureWarning: In a future version of pandas all arguments of read_csv except for the argument 'filepath_or_buffer' will be keyword-only\n",
      "  exec(code_obj, self.user_global_ns, self.user_ns)\n"
     ]
    }
   ],
   "source": [
    "df = pd.read_csv('house.csv', ';')"
   ]
  },
  {
   "cell_type": "code",
   "execution_count": 4,
   "id": "286de28a-2c4c-4a29-ba70-37dd9d87b3f3",
   "metadata": {},
   "outputs": [
    {
     "data": {
      "text/html": [
       "<div>\n",
       "<style scoped>\n",
       "    .dataframe tbody tr th:only-of-type {\n",
       "        vertical-align: middle;\n",
       "    }\n",
       "\n",
       "    .dataframe tbody tr th {\n",
       "        vertical-align: top;\n",
       "    }\n",
       "\n",
       "    .dataframe thead th {\n",
       "        text-align: right;\n",
       "    }\n",
       "</style>\n",
       "<table border=\"1\" class=\"dataframe\">\n",
       "  <thead>\n",
       "    <tr style=\"text-align: right;\">\n",
       "      <th></th>\n",
       "      <th>houseSize</th>\n",
       "      <th>lotSize</th>\n",
       "      <th>bedrooms</th>\n",
       "      <th>granite</th>\n",
       "      <th>bathroom</th>\n",
       "      <th>sellingPrice</th>\n",
       "    </tr>\n",
       "  </thead>\n",
       "  <tbody>\n",
       "    <tr>\n",
       "      <th>0</th>\n",
       "      <td>3529</td>\n",
       "      <td>9191</td>\n",
       "      <td>6</td>\n",
       "      <td>0</td>\n",
       "      <td>0</td>\n",
       "      <td>205000</td>\n",
       "    </tr>\n",
       "    <tr>\n",
       "      <th>1</th>\n",
       "      <td>3247</td>\n",
       "      <td>10061</td>\n",
       "      <td>5</td>\n",
       "      <td>1</td>\n",
       "      <td>1</td>\n",
       "      <td>224900</td>\n",
       "    </tr>\n",
       "    <tr>\n",
       "      <th>2</th>\n",
       "      <td>4032</td>\n",
       "      <td>10150</td>\n",
       "      <td>5</td>\n",
       "      <td>0</td>\n",
       "      <td>1</td>\n",
       "      <td>197900</td>\n",
       "    </tr>\n",
       "    <tr>\n",
       "      <th>3</th>\n",
       "      <td>2397</td>\n",
       "      <td>14156</td>\n",
       "      <td>4</td>\n",
       "      <td>1</td>\n",
       "      <td>0</td>\n",
       "      <td>189900</td>\n",
       "    </tr>\n",
       "    <tr>\n",
       "      <th>4</th>\n",
       "      <td>2200</td>\n",
       "      <td>9600</td>\n",
       "      <td>4</td>\n",
       "      <td>0</td>\n",
       "      <td>1</td>\n",
       "      <td>195000</td>\n",
       "    </tr>\n",
       "    <tr>\n",
       "      <th>5</th>\n",
       "      <td>3536</td>\n",
       "      <td>19994</td>\n",
       "      <td>6</td>\n",
       "      <td>1</td>\n",
       "      <td>1</td>\n",
       "      <td>325000</td>\n",
       "    </tr>\n",
       "    <tr>\n",
       "      <th>6</th>\n",
       "      <td>2983</td>\n",
       "      <td>9365</td>\n",
       "      <td>5</td>\n",
       "      <td>0</td>\n",
       "      <td>1</td>\n",
       "      <td>230000</td>\n",
       "    </tr>\n",
       "  </tbody>\n",
       "</table>\n",
       "</div>"
      ],
      "text/plain": [
       "   houseSize  lotSize  bedrooms  granite  bathroom  sellingPrice\n",
       "0       3529     9191         6        0         0        205000\n",
       "1       3247    10061         5        1         1        224900\n",
       "2       4032    10150         5        0         1        197900\n",
       "3       2397    14156         4        1         0        189900\n",
       "4       2200     9600         4        0         1        195000\n",
       "5       3536    19994         6        1         1        325000\n",
       "6       2983     9365         5        0         1        230000"
      ]
     },
     "execution_count": 4,
     "metadata": {},
     "output_type": "execute_result"
    }
   ],
   "source": [
    "df"
   ]
  },
  {
   "cell_type": "code",
   "execution_count": 5,
   "id": "1286b9d7-f22f-4b38-9b88-1a6f575a56fc",
   "metadata": {},
   "outputs": [],
   "source": [
    "x = np.array(df[['lotSize', 'houseSize', 'bedrooms', 'granite', 'bathroom']]).reshape((-1, 1))"
   ]
  },
  {
   "cell_type": "code",
   "execution_count": 6,
   "id": "80abb99f-e6be-4496-a2a1-78804ca72a4e",
   "metadata": {},
   "outputs": [],
   "source": [
    "y = np.array(df[['sellingPrice', 'sellingPrice', 'sellingPrice', 'sellingPrice', 'sellingPrice']]).reshape((-1, 1))"
   ]
  },
  {
   "cell_type": "code",
   "execution_count": 9,
   "id": "219ec5b8-5cba-457d-860f-541c2c02aa49",
   "metadata": {},
   "outputs": [
    {
     "data": {
      "text/plain": [
       "<matplotlib.collections.PathCollection at 0x7f773ddd1ad0>"
      ]
     },
     "execution_count": 9,
     "metadata": {},
     "output_type": "execute_result"
    }
   ],
   "source": [
    "plt.scatter(x, y,  color='blue', linewidth=3)"
   ]
  },
  {
   "cell_type": "code",
   "execution_count": 10,
   "id": "5d7d8552-85b5-4be5-87a8-1215a3c3363f",
   "metadata": {},
   "outputs": [],
   "source": [
    "model = LinearRegression()"
   ]
  },
  {
   "cell_type": "code",
   "execution_count": 11,
   "id": "be37ed5c-d328-40bc-a801-1d0fff618c6d",
   "metadata": {},
   "outputs": [
    {
     "data": {
      "text/plain": [
       "LinearRegression(copy_X=True, fit_intercept=True, n_jobs=None, normalize=False)"
      ]
     },
     "execution_count": 11,
     "metadata": {},
     "output_type": "execute_result"
    }
   ],
   "source": [
    "model.fit(x, y)"
   ]
  },
  {
   "cell_type": "code",
   "execution_count": 12,
   "id": "39e5206a-4d70-415f-907a-fbd7570e15ed",
   "metadata": {},
   "outputs": [],
   "source": [
    "reg = model.score(x, y)"
   ]
  },
  {
   "cell_type": "code",
   "execution_count": 13,
   "id": "d321b21b-be08-45e1-a246-75cd7f9fb103",
   "metadata": {},
   "outputs": [
    {
     "data": {
      "text/plain": [
       "0.016369563898140593"
      ]
     },
     "execution_count": 13,
     "metadata": {},
     "output_type": "execute_result"
    }
   ],
   "source": [
    "reg"
   ]
  },
  {
   "cell_type": "code",
   "execution_count": 14,
   "id": "bc326e1f-acaa-4744-b1ec-255d602b353e",
   "metadata": {},
   "outputs": [
    {
     "data": {
      "text/plain": [
       "1866623835.61799"
      ]
     },
     "execution_count": 14,
     "metadata": {},
     "output_type": "execute_result"
    }
   ],
   "source": [
    "\n",
    "np.mean((model.predict(x)-y)**2)"
   ]
  },
  {
   "cell_type": "code",
   "execution_count": 15,
   "id": "54ace47c-044a-476b-ba96-09f3c457853c",
   "metadata": {},
   "outputs": [
    {
     "data": {
      "text/plain": [
       "array([220536.44839236])"
      ]
     },
     "execution_count": 15,
     "metadata": {},
     "output_type": "execute_result"
    }
   ],
   "source": [
    "model.intercept_"
   ]
  },
  {
   "cell_type": "code",
   "execution_count": 16,
   "id": "cefab1a6-96af-448f-8d89-8982f1a6fee4",
   "metadata": {},
   "outputs": [
    {
     "data": {
      "text/plain": [
       "array([[1.14586258]])"
      ]
     },
     "execution_count": 16,
     "metadata": {},
     "output_type": "execute_result"
    }
   ],
   "source": [
    "model.coef_"
   ]
  },
  {
   "cell_type": "code",
   "execution_count": 17,
   "id": "8c9b21c1-5926-4da7-8f77-86a9bc887fe4",
   "metadata": {},
   "outputs": [],
   "source": [
    "x_prev = x"
   ]
  },
  {
   "cell_type": "code",
   "execution_count": 18,
   "id": "208921db-3f5e-442a-b19b-d2392a4292ff",
   "metadata": {},
   "outputs": [],
   "source": [
    "y_prev = model.predict(x_prev)"
   ]
  },
  {
   "cell_type": "code",
   "execution_count": 19,
   "id": "4fa0b589-d673-4a5c-944d-3caa40e6d84b",
   "metadata": {},
   "outputs": [
    {
     "data": {
      "text/plain": [
       "array([[231068.07140549],\n",
       "       [224580.19745267],\n",
       "       [220543.32356787],\n",
       "       [220536.44839236],\n",
       "       [220536.44839236],\n",
       "       [232064.9718539 ],\n",
       "       [224257.06420387],\n",
       "       [220542.17770528],\n",
       "       [220537.59425495],\n",
       "       [220537.59425495],\n",
       "       [232166.95362392],\n",
       "       [225156.56633262],\n",
       "       [220542.17770528],\n",
       "       [220536.44839236],\n",
       "       [220537.59425495],\n",
       "       [236757.27913698],\n",
       "       [223283.08100714],\n",
       "       [220541.0318427 ],\n",
       "       [220537.59425495],\n",
       "       [220536.44839236],\n",
       "       [231536.7292025 ],\n",
       "       [223057.34607802],\n",
       "       [220541.0318427 ],\n",
       "       [220536.44839236],\n",
       "       [220537.59425495],\n",
       "       [243446.82490465],\n",
       "       [224588.21849076],\n",
       "       [220543.32356787],\n",
       "       [220537.59425495],\n",
       "       [220537.59425495],\n",
       "       [231267.45149517],\n",
       "       [223954.5564816 ],\n",
       "       [220542.17770528],\n",
       "       [220536.44839236],\n",
       "       [220537.59425495]])"
      ]
     },
     "execution_count": 19,
     "metadata": {},
     "output_type": "execute_result"
    }
   ],
   "source": [
    "y_prev"
   ]
  },
  {
   "cell_type": "code",
   "execution_count": 20,
   "id": "f0ab24ff-c41e-4bdc-89e2-ece317578708",
   "metadata": {},
   "outputs": [
    {
     "data": {
      "text/plain": [
       "231068.07140548568"
      ]
     },
     "execution_count": 20,
     "metadata": {},
     "output_type": "execute_result"
    }
   ],
   "source": [
    "y_prev[0][0]"
   ]
  },
  {
   "cell_type": "code",
   "execution_count": null,
   "id": "4568d2fe-7538-49bd-93bc-a14429fc0be7",
   "metadata": {},
   "outputs": [],
   "source": []
  }
 ],
 "metadata": {
  "kernelspec": {
   "display_name": "Python 3",
   "language": "python",
   "name": "python3"
  },
  "language_info": {
   "codemirror_mode": {
    "name": "ipython",
    "version": 3
   },
   "file_extension": ".py",
   "mimetype": "text/x-python",
   "name": "python",
   "nbconvert_exporter": "python",
   "pygments_lexer": "ipython3",
   "version": "3.7.8"
  }
 },
 "nbformat": 4,
 "nbformat_minor": 5
}
